{
 "cells": [
  {
   "cell_type": "code",
   "execution_count": null,
   "metadata": {},
   "outputs": [
    {
     "name": "stdout",
     "output_type": "stream",
     "text": [
      "Función original:\n"
     ]
    },
    {
     "data": {
      "image/png": "[encoded data removed]",
      "text/latex": [
       "$\\displaystyle \\frac{x}{x + 2} + \\operatorname{atan}{\\left(e^{3 x} \\right)}$"
      ],
      "text/plain": [
       "  x         ⎛ 3⋅x⎞\n",
       "───── + atan⎝ℯ   ⎠\n",
       "x + 2             "
      ]
     },
     "metadata": {},
     "output_type": "display_data"
    },
    {
     "name": "stdout",
     "output_type": "stream",
     "text": [
      "Derivada:\n"
     ]
    },
    {
     "data": {
      "image/png": "[encoded data removed]",
      "text/latex": [
       "$\\displaystyle - \\frac{x}{\\left(x + 2\\right)^{2}} + \\frac{3 e^{3 x}}{e^{6 x} + 1} + \\frac{1}{x + 2}$"
      ],
      "text/plain": [
       "                 3⋅x         \n",
       "     x        3⋅ℯ         1  \n",
       "- ──────── + ──────── + ─────\n",
       "         2    6⋅x       x + 2\n",
       "  (x + 2)    ℯ    + 1        "
      ]
     },
     "metadata": {},
     "output_type": "display_data"
    }
   ],
   "source": [
    "from sympy import symbols, diff, exp, atan, init_printing\n",
    "from IPython.display import display  # Importar desde IPython\n",
    "\n",
    "# Activar impresión en formato bonito\n",
    "init_printing()\n",
    "\n",
    "# Definir variable y función\n",
    "x = symbols('x')\n",
    "F = atan(exp(3*x)) + (x/(x+2))\n",
    "\n",
    "\n",
    "# Derivar la función\n",
    "derivada = diff(F, x)\n",
    "\n",
    "# Mostrar resultados en formato legible\n",
    "print(\"Función original:\")\n",
    "display(F)\n",
    "print(\"Derivada:\")\n",
    "display(derivada)\n"
   ]
  }
 ],
 "metadata": {
  "kernelspec": {
   "display_name": "pandas",
   "language": "python",
   "name": "python3"
  },
  "language_info": {
   "codemirror_mode": {
    "name": "ipython",
    "version": 3
   },
   "file_extension": ".py",
   "mimetype": "text/x-python",
   "name": "python",
   "nbconvert_exporter": "python",
   "pygments_lexer": "ipython3",
   "version": "3.12.7"
  }
 },
 "nbformat": 4,
 "nbformat_minor": 2
}
